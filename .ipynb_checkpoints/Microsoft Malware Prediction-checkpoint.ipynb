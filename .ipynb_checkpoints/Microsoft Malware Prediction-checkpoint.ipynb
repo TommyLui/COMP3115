{
 "cells": [
  {
   "cell_type": "code",
   "execution_count": 106,
   "metadata": {},
   "outputs": [],
   "source": [
    "import pandas as pd\n",
    "import numpy as np\n",
    "import matplotlib.pyplot as plt\n",
    "import seaborn as sns\n",
    "from sklearn.preprocessing import LabelEncoder\n",
    "from sklearn.preprocessing import OneHotEncoder\n",
    "from sklearn.preprocessing import MinMaxScaler\n",
    "from sklearn.model_selection import train_test_split\n",
    "from sklearn.neural_network import MLPClassifier\n",
    "from sklearn.neighbors import KNeighborsClassifier\n",
    "import time\n",
    "from sklearn.pipeline import make_pipeline\n",
    "from sklearn.preprocessing import StandardScaler\n",
    "from sklearn.svm import SVC"
   ]
  },
  {
   "cell_type": "code",
   "execution_count": 107,
   "metadata": {},
   "outputs": [],
   "source": [
    "df = pd.read_csv('data_small.csv')"
   ]
  },
  {
   "cell_type": "code",
   "execution_count": 108,
   "metadata": {},
   "outputs": [
    {
     "data": {
      "text/html": [
       "<div>\n",
       "<style scoped>\n",
       "    .dataframe tbody tr th:only-of-type {\n",
       "        vertical-align: middle;\n",
       "    }\n",
       "\n",
       "    .dataframe tbody tr th {\n",
       "        vertical-align: top;\n",
       "    }\n",
       "\n",
       "    .dataframe thead th {\n",
       "        text-align: right;\n",
       "    }\n",
       "</style>\n",
       "<table border=\"1\" class=\"dataframe\">\n",
       "  <thead>\n",
       "    <tr style=\"text-align: right;\">\n",
       "      <th></th>\n",
       "      <th>MachineIdentifier</th>\n",
       "      <th>ProductName</th>\n",
       "      <th>EngineVersion</th>\n",
       "      <th>AppVersion</th>\n",
       "      <th>AvSigVersion</th>\n",
       "      <th>IsBeta</th>\n",
       "      <th>RtpStateBitfield</th>\n",
       "      <th>IsSxsPassiveMode</th>\n",
       "      <th>DefaultBrowsersIdentifier</th>\n",
       "      <th>AVProductStatesIdentifier</th>\n",
       "      <th>...</th>\n",
       "      <th>Census_FirmwareVersionIdentifier</th>\n",
       "      <th>Census_IsSecureBootEnabled</th>\n",
       "      <th>Census_IsWIMBootEnabled</th>\n",
       "      <th>Census_IsVirtualDevice</th>\n",
       "      <th>Census_IsTouchEnabled</th>\n",
       "      <th>Census_IsPenCapable</th>\n",
       "      <th>Census_IsAlwaysOnAlwaysConnectedCapable</th>\n",
       "      <th>Wdft_IsGamer</th>\n",
       "      <th>Wdft_RegionIdentifier</th>\n",
       "      <th>HasDetections</th>\n",
       "    </tr>\n",
       "  </thead>\n",
       "  <tbody>\n",
       "    <tr>\n",
       "      <th>0</th>\n",
       "      <td>0000028988387b115f69f31a3bf04f09</td>\n",
       "      <td>win8defender</td>\n",
       "      <td>1.1.15100.1</td>\n",
       "      <td>4.18.1807.18075</td>\n",
       "      <td>1.273.1735.0</td>\n",
       "      <td>0</td>\n",
       "      <td>7.0</td>\n",
       "      <td>0</td>\n",
       "      <td>NaN</td>\n",
       "      <td>53447.0</td>\n",
       "      <td>...</td>\n",
       "      <td>36144.0</td>\n",
       "      <td>0</td>\n",
       "      <td>NaN</td>\n",
       "      <td>0.0</td>\n",
       "      <td>0</td>\n",
       "      <td>0</td>\n",
       "      <td>0.0</td>\n",
       "      <td>0.0</td>\n",
       "      <td>10.0</td>\n",
       "      <td>0</td>\n",
       "    </tr>\n",
       "    <tr>\n",
       "      <th>1</th>\n",
       "      <td>000007535c3f730efa9ea0b7ef1bd645</td>\n",
       "      <td>win8defender</td>\n",
       "      <td>1.1.14600.4</td>\n",
       "      <td>4.13.17134.1</td>\n",
       "      <td>1.263.48.0</td>\n",
       "      <td>0</td>\n",
       "      <td>7.0</td>\n",
       "      <td>0</td>\n",
       "      <td>NaN</td>\n",
       "      <td>53447.0</td>\n",
       "      <td>...</td>\n",
       "      <td>57858.0</td>\n",
       "      <td>0</td>\n",
       "      <td>NaN</td>\n",
       "      <td>0.0</td>\n",
       "      <td>0</td>\n",
       "      <td>0</td>\n",
       "      <td>0.0</td>\n",
       "      <td>0.0</td>\n",
       "      <td>8.0</td>\n",
       "      <td>0</td>\n",
       "    </tr>\n",
       "    <tr>\n",
       "      <th>2</th>\n",
       "      <td>000007905a28d863f6d0d597892cd692</td>\n",
       "      <td>win8defender</td>\n",
       "      <td>1.1.15100.1</td>\n",
       "      <td>4.18.1807.18075</td>\n",
       "      <td>1.273.1341.0</td>\n",
       "      <td>0</td>\n",
       "      <td>7.0</td>\n",
       "      <td>0</td>\n",
       "      <td>NaN</td>\n",
       "      <td>53447.0</td>\n",
       "      <td>...</td>\n",
       "      <td>52682.0</td>\n",
       "      <td>0</td>\n",
       "      <td>NaN</td>\n",
       "      <td>0.0</td>\n",
       "      <td>0</td>\n",
       "      <td>0</td>\n",
       "      <td>0.0</td>\n",
       "      <td>0.0</td>\n",
       "      <td>3.0</td>\n",
       "      <td>0</td>\n",
       "    </tr>\n",
       "    <tr>\n",
       "      <th>3</th>\n",
       "      <td>00000b11598a75ea8ba1beea8459149f</td>\n",
       "      <td>win8defender</td>\n",
       "      <td>1.1.15100.1</td>\n",
       "      <td>4.18.1807.18075</td>\n",
       "      <td>1.273.1527.0</td>\n",
       "      <td>0</td>\n",
       "      <td>7.0</td>\n",
       "      <td>0</td>\n",
       "      <td>NaN</td>\n",
       "      <td>53447.0</td>\n",
       "      <td>...</td>\n",
       "      <td>20050.0</td>\n",
       "      <td>0</td>\n",
       "      <td>NaN</td>\n",
       "      <td>0.0</td>\n",
       "      <td>0</td>\n",
       "      <td>0</td>\n",
       "      <td>0.0</td>\n",
       "      <td>0.0</td>\n",
       "      <td>3.0</td>\n",
       "      <td>1</td>\n",
       "    </tr>\n",
       "    <tr>\n",
       "      <th>4</th>\n",
       "      <td>000014a5f00daa18e76b81417eeb99fc</td>\n",
       "      <td>win8defender</td>\n",
       "      <td>1.1.15100.1</td>\n",
       "      <td>4.18.1807.18075</td>\n",
       "      <td>1.273.1379.0</td>\n",
       "      <td>0</td>\n",
       "      <td>7.0</td>\n",
       "      <td>0</td>\n",
       "      <td>NaN</td>\n",
       "      <td>53447.0</td>\n",
       "      <td>...</td>\n",
       "      <td>19844.0</td>\n",
       "      <td>0</td>\n",
       "      <td>0.0</td>\n",
       "      <td>0.0</td>\n",
       "      <td>0</td>\n",
       "      <td>0</td>\n",
       "      <td>0.0</td>\n",
       "      <td>0.0</td>\n",
       "      <td>1.0</td>\n",
       "      <td>1</td>\n",
       "    </tr>\n",
       "  </tbody>\n",
       "</table>\n",
       "<p>5 rows × 83 columns</p>\n",
       "</div>"
      ],
      "text/plain": [
       "                  MachineIdentifier   ProductName EngineVersion  \\\n",
       "0  0000028988387b115f69f31a3bf04f09  win8defender   1.1.15100.1   \n",
       "1  000007535c3f730efa9ea0b7ef1bd645  win8defender   1.1.14600.4   \n",
       "2  000007905a28d863f6d0d597892cd692  win8defender   1.1.15100.1   \n",
       "3  00000b11598a75ea8ba1beea8459149f  win8defender   1.1.15100.1   \n",
       "4  000014a5f00daa18e76b81417eeb99fc  win8defender   1.1.15100.1   \n",
       "\n",
       "        AppVersion  AvSigVersion  IsBeta  RtpStateBitfield  IsSxsPassiveMode  \\\n",
       "0  4.18.1807.18075  1.273.1735.0       0               7.0                 0   \n",
       "1     4.13.17134.1    1.263.48.0       0               7.0                 0   \n",
       "2  4.18.1807.18075  1.273.1341.0       0               7.0                 0   \n",
       "3  4.18.1807.18075  1.273.1527.0       0               7.0                 0   \n",
       "4  4.18.1807.18075  1.273.1379.0       0               7.0                 0   \n",
       "\n",
       "   DefaultBrowsersIdentifier  AVProductStatesIdentifier  ...  \\\n",
       "0                        NaN                    53447.0  ...   \n",
       "1                        NaN                    53447.0  ...   \n",
       "2                        NaN                    53447.0  ...   \n",
       "3                        NaN                    53447.0  ...   \n",
       "4                        NaN                    53447.0  ...   \n",
       "\n",
       "   Census_FirmwareVersionIdentifier  Census_IsSecureBootEnabled  \\\n",
       "0                           36144.0                           0   \n",
       "1                           57858.0                           0   \n",
       "2                           52682.0                           0   \n",
       "3                           20050.0                           0   \n",
       "4                           19844.0                           0   \n",
       "\n",
       "   Census_IsWIMBootEnabled  Census_IsVirtualDevice  Census_IsTouchEnabled  \\\n",
       "0                      NaN                     0.0                      0   \n",
       "1                      NaN                     0.0                      0   \n",
       "2                      NaN                     0.0                      0   \n",
       "3                      NaN                     0.0                      0   \n",
       "4                      0.0                     0.0                      0   \n",
       "\n",
       "   Census_IsPenCapable  Census_IsAlwaysOnAlwaysConnectedCapable  Wdft_IsGamer  \\\n",
       "0                    0                                      0.0           0.0   \n",
       "1                    0                                      0.0           0.0   \n",
       "2                    0                                      0.0           0.0   \n",
       "3                    0                                      0.0           0.0   \n",
       "4                    0                                      0.0           0.0   \n",
       "\n",
       "  Wdft_RegionIdentifier HasDetections  \n",
       "0                  10.0             0  \n",
       "1                   8.0             0  \n",
       "2                   3.0             0  \n",
       "3                   3.0             1  \n",
       "4                   1.0             1  \n",
       "\n",
       "[5 rows x 83 columns]"
      ]
     },
     "execution_count": 108,
     "metadata": {},
     "output_type": "execute_result"
    }
   ],
   "source": [
    "df.head()"
   ]
  },
  {
   "cell_type": "code",
   "execution_count": 109,
   "metadata": {},
   "outputs": [],
   "source": [
    "trans_dict = {\n",
    "    'off': 'Off', '&#x02;': '2', '&#x01;': '1', 'on': 'On', 'requireadmin': 'RequireAdmin', 'OFF': 'Off', \n",
    "    'Promt': 'Prompt', 'requireAdmin': 'RequireAdmin', 'prompt': 'Prompt', 'warn': 'Warn', \n",
    "    '00000000': '0', '&#x03;': '3', np.nan: 'NoExist'\n",
    "}\n",
    "df.replace({'SmartScreen': trans_dict}, inplace=True)"
   ]
  },
  {
   "cell_type": "code",
   "execution_count": 110,
   "metadata": {},
   "outputs": [],
   "source": [
    "df.replace({'OrganizationIdentifier': {np.nan: 0}}, inplace=True)"
   ]
  },
  {
   "cell_type": "code",
   "execution_count": 111,
   "metadata": {},
   "outputs": [],
   "source": [
    "trans_dict = {\n",
    "    '\u001f˙˙˙': 'unknown', 'unkn': 'unknown', np.nan: 'unknown'\n",
    "}\n",
    "df.replace({'Census_InternalBatteryType': trans_dict}, inplace=True)"
   ]
  },
  {
   "cell_type": "code",
   "execution_count": 112,
   "metadata": {},
   "outputs": [
    {
     "data": {
      "text/plain": [
       "(9999, 83)"
      ]
     },
     "execution_count": 112,
     "metadata": {},
     "output_type": "execute_result"
    }
   ],
   "source": [
    "df.shape"
   ]
  },
  {
   "cell_type": "code",
   "execution_count": 113,
   "metadata": {},
   "outputs": [],
   "source": [
    "dropped_df = df.copy()\n",
    "\n",
    "# Drop these columns.\n",
    "droppable_features = ['Census_ProcessorClass',\n",
    " 'Census_IsWIMBootEnabled',\n",
    " 'IsBeta',\n",
    " 'Census_IsFlightsDisabled',\n",
    " 'Census_IsFlightingInternal',\n",
    " 'AutoSampleOptIn',\n",
    " 'Census_ThresholdOptIn',\n",
    " 'SMode',\n",
    " 'Census_IsPortableOperatingSystem',\n",
    " 'PuaMode',\n",
    " 'Census_DeviceFamily',\n",
    " 'UacLuaenable',\n",
    " 'Census_IsVirtualDevice',\n",
    " 'Platform',\n",
    " 'Census_OSSkuName',\n",
    " 'Census_OSInstallLanguageIdentifier',\n",
    " 'Processor']\n",
    "\n",
    "dropped_df.drop(droppable_features, axis=1, inplace=True)\n",
    "dropped_df.drop('MachineIdentifier', axis=1, inplace=True)"
   ]
  },
  {
   "cell_type": "code",
   "execution_count": null,
   "metadata": {},
   "outputs": [],
   "source": []
  },
  {
   "cell_type": "code",
   "execution_count": 114,
   "metadata": {},
   "outputs": [
    {
     "data": {
      "text/plain": [
       "(9999, 65)"
      ]
     },
     "execution_count": 114,
     "metadata": {},
     "output_type": "execute_result"
    }
   ],
   "source": [
    "dropped_df.shape"
   ]
  },
  {
   "cell_type": "code",
   "execution_count": 115,
   "metadata": {},
   "outputs": [],
   "source": [
    "dropped_df.DefaultBrowsersIdentifier.fillna(0, inplace=True)"
   ]
  },
  {
   "cell_type": "code",
   "execution_count": 116,
   "metadata": {},
   "outputs": [],
   "source": [
    "trans_dict = {\n",
    "    'off': 'Off', '&#x02;': '2', '&#x01;': '1', 'on': 'On', 'requireadmin': 'RequireAdmin', 'OFF': 'Off', \n",
    "    'Promt': 'Prompt', 'requireAdmin': 'RequireAdmin', 'prompt': 'Prompt', 'warn': 'Warn', \n",
    "    '00000000': '0', '&#x03;': '3', np.nan: 'NoExist'\n",
    "}\n",
    "dropped_df.replace({'SmartScreen': trans_dict}, inplace=True)"
   ]
  },
  {
   "cell_type": "code",
   "execution_count": 117,
   "metadata": {},
   "outputs": [],
   "source": [
    "dropped_df.replace({'OrganizationIdentifier': {np.nan: 0}}, inplace=True)"
   ]
  },
  {
   "cell_type": "code",
   "execution_count": 118,
   "metadata": {},
   "outputs": [],
   "source": [
    "trans_dict = {\n",
    "    '\u001f˙˙˙': 'unknown', 'unkn': 'unknown', np.nan: 'unknown'\n",
    "}\n",
    "dropped_df.replace({'Census_InternalBatteryType': trans_dict}, inplace=True)"
   ]
  },
  {
   "cell_type": "code",
   "execution_count": 119,
   "metadata": {},
   "outputs": [
    {
     "data": {
      "text/plain": [
       "(8654, 65)"
      ]
     },
     "execution_count": 119,
     "metadata": {},
     "output_type": "execute_result"
    }
   ],
   "source": [
    "dropped_df.dropna(inplace=True)\n",
    "dropped_df.shape"
   ]
  },
  {
   "cell_type": "code",
   "execution_count": 120,
   "metadata": {},
   "outputs": [],
   "source": [
    "# labelencoder = LabelEncoder()\n",
    "# columns = []\n",
    "\n",
    "# data_le = dropped_df.copy()\n",
    "# data_oh = dropped_df.copy()\n",
    "\n",
    "# for column in dropped_df.select_dtypes(include=['object']):\n",
    "#   data_le[column] = labelencoder.fit_transform(data_le[column])\n",
    "#   columns.append(column)\n",
    "    \n",
    "# data_oh = pd.get_dummies(data_oh, columns = columns, drop_first=True)\n",
    "\n",
    "# y_le = data_le[\"HasDetections\"]\n",
    "# X_le = data_le.drop([\"HasDetections\"], axis=1)\n",
    "\n",
    "# y_oh = data_oh[\"HasDetections\"]\n",
    "# X_oh = data_oh.drop([\"HasDetections\"], axis=1)\n",
    "\n",
    "# scaler = MinMaxScaler()\n",
    "# t_data_le = scaler.fit_transform(X_le)\n",
    "# t_data_oh = scaler.fit_transform(X_oh)\n",
    "\n",
    "# t_data_le_df = pd.DataFrame(t_data_le)\n",
    "# t_data_oh_df = pd.DataFrame(t_data_oh)\n",
    "\n",
    "\n",
    "# X_train_le, X_test_le, y_train_le, y_test_le = train_test_split(t_data_le_df, y_le, test_size=0.2, random_state=4)\n",
    "# X_train_oh, X_test_oh, y_train_oh, y_test_oh = train_test_split(t_data_oh_df, y_oh, test_size=0.2, random_state=4)\n",
    "\n",
    "# print(\"Shape of X_train_le:\", X_train_le.shape)\n",
    "# print(\"Shape of X_train_oh:\", X_train_oh.shape)\n",
    "\n",
    "# mlp_classifier_le = MLPClassifier(hidden_layer_sizes=(200, 50), activation='relu', learning_rate_init = 0.05, max_iter=400)\n",
    "# mlp_classifier_oh = MLPClassifier(hidden_layer_sizes=(200, 50), activation='relu', learning_rate_init = 0.05, max_iter=400)\n",
    "\n",
    "# start_le = time.time()\n",
    "# mlp_classifier_le.fit(X_train_le, y_train_le)\n",
    "# end_le = time.time()\n",
    "\n",
    "# start_oh = time.time()\n",
    "# mlp_classifier_oh.fit(X_train_oh, y_train_oh)\n",
    "# end_oh = time.time()\n",
    "\n",
    "# print(\"Label encoding:\", mlp_classifier_le.score(X_test_le, y_test_le), \", time taken:\", end_le-start_le)\n",
    "# print(\"One-hot encoding:\", mlp_classifier_oh.score(X_test_oh, y_test_oh), \", time taken:\", end_oh-start_oh)"
   ]
  },
  {
   "cell_type": "code",
   "execution_count": 121,
   "metadata": {},
   "outputs": [],
   "source": [
    "# labelencoder = LabelEncoder()\n",
    "# columns = []\n",
    "\n",
    "# data_le = dropped_df.copy()\n",
    "\n",
    "# for column in dropped_df.select_dtypes(include=['object']):\n",
    "#   data_le[column] = labelencoder.fit_transform(data_le[column])\n",
    "#   columns.append(column)\n",
    "\n",
    "# scaler = MinMaxScaler()\n",
    "# t_data_le = scaler.fit_transform(data_le)\n",
    "\n",
    "# t_data_le_df = pd.DataFrame(t_data_le)\n",
    "\n",
    "\n",
    "# t_data_le_df.head()\n",
    "\n",
    "# y_le = t_data_le_df[64]\n",
    "# X_le = t_data_le_df.drop([64], axis=1)\n",
    "\n",
    "# y = data_le[\"HasDetections\"]\n",
    "# X = data_le.drop([\"HasDetections\"], axis=1)\n",
    "\n",
    "# X_train_le, X_test_le, y_train_le, y_test_le = train_test_split(X_le, y_le, test_size=0.2, random_state=4)\n",
    "# X_train, X_test, y_train, y_test = train_test_split(X, y, test_size=0.2, random_state=4)\n",
    "\n",
    "# from sklearn.model_selection import cross_val_score\n",
    "# mlp_classifier_le = MLPClassifier(hidden_layer_sizes=(200, 50), activation='relu', learning_rate_init = 0.05, max_iter=400)\n",
    "# mlp_classifier_le.fit(X_train_le, y_train_le)\n",
    "# print(\"With normalisation:\", mlp_classifier_le.score(X_test_le, y_test_le))\n",
    "# cross_val_score(mlp_classifier_le, X_le, y_le, cv=5)\n",
    "\n",
    "# mlp_classifier = MLPClassifier(hidden_layer_sizes=(200, 50), activation='relu', learning_rate_init = 0.05, max_iter=400)\n",
    "# mlp_classifier.fit(X_train, y_train)\n",
    "# print(\"Without normalisation:\", mlp_classifier.score(X_test, y_test))"
   ]
  },
  {
   "cell_type": "code",
   "execution_count": 124,
   "metadata": {},
   "outputs": [
    {
     "name": "stdout",
     "output_type": "stream",
     "text": [
      "NN accuracy: 0.5707683419988446\n",
      "KNN accuracy: 0.5886770652801848\n",
      "SVM accuracy: 0.6123627960716349\n"
     ]
    }
   ],
   "source": [
    "labelencoder = LabelEncoder()\n",
    "columns = []\n",
    "\n",
    "data_le = dropped_df.copy()\n",
    "\n",
    "for column in dropped_df.select_dtypes(include=['object']):\n",
    "  data_le[column] = labelencoder.fit_transform(data_le[column])\n",
    "  columns.append(column)\n",
    "\n",
    "scaler = MinMaxScaler()\n",
    "t_data_le = scaler.fit_transform(data_le)\n",
    "t_data_le_df = pd.DataFrame(t_data_le)\n",
    "\n",
    "y_le = t_data_le_df[64]\n",
    "X_le = t_data_le_df.drop([64], axis=1)\n",
    "\n",
    "X_train_le, X_test_le, y_train_le, y_test_le = train_test_split(X_le, y_le, test_size=0.2, random_state=4)\n",
    "\n",
    "mlp_classifier = MLPClassifier(hidden_layer_sizes=(100, 50), activation='relu', learning_rate_init = 0.01, max_iter=400)\n",
    "mlp_classifier.fit(X_train_le, y_train_le)\n",
    "print(\"NN accuracy:\", mlp_classifier.score(X_test_le, y_test_le))\n",
    "\n",
    "\n",
    "neigh = KNeighborsClassifier(n_neighbors=500)\n",
    "neigh.fit(X_train_le, y_train_le)\n",
    "print(\"KNN accuracy:\", neigh.score(X_test_le, y_test_le))\n",
    "\n",
    "clf = make_pipeline(StandardScaler(), SVC(gamma='auto'))\n",
    "clf.fit(X_train_le, y_train_le)\n",
    "print(\"SVM accuracy:\", clf.score(X_test_le, y_test_le))"
   ]
  },
  {
   "cell_type": "code",
   "execution_count": null,
   "metadata": {},
   "outputs": [],
   "source": []
  },
  {
   "cell_type": "code",
   "execution_count": null,
   "metadata": {},
   "outputs": [],
   "source": []
  },
  {
   "cell_type": "code",
   "execution_count": null,
   "metadata": {},
   "outputs": [],
   "source": []
  },
  {
   "cell_type": "code",
   "execution_count": null,
   "metadata": {},
   "outputs": [],
   "source": []
  }
 ],
 "metadata": {
  "kernelspec": {
   "display_name": "Python 3",
   "language": "python",
   "name": "python3"
  },
  "language_info": {
   "codemirror_mode": {
    "name": "ipython",
    "version": 3
   },
   "file_extension": ".py",
   "mimetype": "text/x-python",
   "name": "python",
   "nbconvert_exporter": "python",
   "pygments_lexer": "ipython3",
   "version": "3.7.6"
  }
 },
 "nbformat": 4,
 "nbformat_minor": 4
}
